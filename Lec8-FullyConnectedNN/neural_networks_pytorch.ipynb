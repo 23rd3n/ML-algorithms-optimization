{
 "cells": [
  {
   "cell_type": "code",
   "execution_count": 1,
   "metadata": {},
   "outputs": [],
   "source": [
    "import torchvision\n",
    "import torchvision.transforms as transforms\n",
    "import torch.nn as nn\n",
    "import torch\n",
    "from torch.utils.data import DataLoader, Subset\n",
    "import torch.optim as optim"
   ]
  },
  {
   "cell_type": "markdown",
   "metadata": {},
   "source": [
    "Load CIFAR10 train and test set"
   ]
  },
  {
   "cell_type": "code",
   "execution_count": 2,
   "metadata": {},
   "outputs": [
    {
     "name": "stdout",
     "output_type": "stream",
     "text": [
      "Files already downloaded and verified\n",
      "Files already downloaded and verified\n"
     ]
    }
   ],
   "source": [
    "transform = transforms.Compose(\n",
    "    [transforms.ToTensor(),\n",
    "     transforms.Normalize((0.5, 0.5, 0.5), (0.5, 0.5, 0.5))]\n",
    ")\n",
    "\n",
    "batch_size = 4\n",
    "\n",
    "trainset = torchvision.datasets.CIFAR10(root='./data', train=True,\n",
    "                                        download=True, transform=transform)\n",
    "testset = torchvision.datasets.CIFAR10(root='./data', train=False,\n",
    "                                       download=True, transform=transform)"
   ]
  },
  {
   "cell_type": "code",
   "execution_count": 3,
   "metadata": {},
   "outputs": [],
   "source": [
    "# Subset the CIFAR10 dataset\n",
    "classes_of_interest = [3, 5, 8]  # indices for cat, dog, and ship\n",
    "subset_train_indices = [i for i in range(len(trainset)) if trainset.targets[i] in classes_of_interest][:3000]\n",
    "subset_test_indices = [i for i in range(len(testset)) if testset.targets[i] in classes_of_interest][:1000]\n",
    "\n",
    "train_subset = Subset(trainset, subset_train_indices)\n",
    "test_subset = Subset(testset, subset_test_indices)\n",
    "\n",
    "# Initialize data loaders\n",
    "trainloader = DataLoader(train_subset, batch_size=4, shuffle=True)\n",
    "testloader = DataLoader(test_subset, batch_size=4, shuffle=False)"
   ]
  },
  {
   "cell_type": "code",
   "execution_count": 4,
   "metadata": {},
   "outputs": [],
   "source": [
    "class SimpleFCNN(nn.Module):\n",
    "    def __init__(self, input_size, hidden_size, output_size):\n",
    "        super(SimpleFCNN, self).__init__()\n",
    "        self.flatten = nn.Flatten()  # Flatten the input images\n",
    "\n",
    "        self.hidden = nn.Linear(input_size, hidden_size) \n",
    "        self.relu = nn.ReLU()\n",
    "        self.output = nn.Linear(hidden_size, output_size)\n",
    "\n",
    "    def forward(self, x):\n",
    "        x = self.flatten(x)\n",
    "        x = self.hidden(x)\n",
    "        x = self.relu(x)\n",
    "        x = self.output(x)\n",
    "        return x\n",
    "\n",
    "input_size = 3 * 32 * 32 \n",
    "hidden_size = 512\n",
    "output_size = len(classes_of_interest)  # Number of classes (cat, dog, ship)\n",
    "\n",
    "simple_nn = SimpleFCNN(input_size, hidden_size, output_size)"
   ]
  },
  {
   "cell_type": "code",
   "execution_count": 5,
   "metadata": {},
   "outputs": [
    {
     "name": "stdout",
     "output_type": "stream",
     "text": [
      "Epoch 1/10: Train Accuracy: 0.6057, Test Accuracy: 0.6770\n",
      "Epoch 2/10: Train Accuracy: 0.6857, Test Accuracy: 0.6450\n",
      "Epoch 3/10: Train Accuracy: 0.7107, Test Accuracy: 0.6540\n",
      "Epoch 4/10: Train Accuracy: 0.7463, Test Accuracy: 0.6600\n",
      "Epoch 5/10: Train Accuracy: 0.7677, Test Accuracy: 0.6560\n",
      "Epoch 6/10: Train Accuracy: 0.8083, Test Accuracy: 0.6530\n",
      "Epoch 7/10: Train Accuracy: 0.8307, Test Accuracy: 0.6710\n",
      "Epoch 8/10: Train Accuracy: 0.8463, Test Accuracy: 0.6540\n",
      "Epoch 9/10: Train Accuracy: 0.8797, Test Accuracy: 0.6500\n",
      "Epoch 10/10: Train Accuracy: 0.8787, Test Accuracy: 0.6790\n"
     ]
    }
   ],
   "source": [
    "optimizer = optim.SGD(simple_nn.parameters(), lr=0.001, momentum=0.9)\n",
    "criterion = nn.CrossEntropyLoss()\n",
    "epochs = 10\n",
    "\n",
    "for epoch in range(epochs):\n",
    "    # Training\n",
    "    running_loss = 0.0\n",
    "    correct_train = 0\n",
    "    total_train = 0\n",
    "    best_accuracy = 0.0\n",
    "\n",
    "    for inputs, labels in trainloader:\n",
    "        optimizer.zero_grad()\n",
    "\n",
    "        outputs = simple_nn(inputs)\n",
    "        labels = torch.tensor([classes_of_interest.index(label.item()) for label in labels])\n",
    "        loss = criterion(outputs, labels)\n",
    "        loss.backward()\n",
    "        optimizer.step()\n",
    "\n",
    "        running_loss += loss.item()\n",
    "\n",
    "        _, predicted = torch.max(outputs.data, 1)\n",
    "        total_train += labels.size(0)\n",
    "        correct_train += (predicted == labels).sum().item()\n",
    "\n",
    "    train_accuracy = correct_train / total_train\n",
    "\n",
    "    # Testing\n",
    "    simple_nn.eval()\n",
    "    correct_test = 0\n",
    "    total_test = 0\n",
    "\n",
    "    with torch.no_grad():\n",
    "        for inputs, labels in testloader:\n",
    "            outputs = simple_nn(inputs)\n",
    "            labels = torch.tensor([classes_of_interest.index(label.item()) for label in labels])\n",
    "\n",
    "            _, predicted = torch.max(outputs.data, 1)\n",
    "            total_test += labels.size(0)\n",
    "            correct_test += (predicted == labels).sum().item()\n",
    "\n",
    "    test_accuracy = correct_test / total_test\n",
    "\n",
    "    # Print and save the best model\n",
    "    print(f'Epoch {epoch + 1}/{epochs}: Train Accuracy: {train_accuracy:.4f}, Test Accuracy: {test_accuracy:.4f}')\n",
    "\n",
    "\n",
    "    if test_accuracy > best_accuracy:\n",
    "            best_accuracy = test_accuracy\n",
    "            torch.save(simple_nn.state_dict(), 'best_model.pth')"
   ]
  },
  {
   "cell_type": "code",
   "execution_count": 6,
   "metadata": {},
   "outputs": [
    {
     "name": "stdout",
     "output_type": "stream",
     "text": [
      "Overall Test Accuracy: 0.6790\n",
      "Test Accuracy for cat: 0.6220\n",
      "Test Accuracy for dog: 0.5123\n",
      "Test Accuracy for ship: 0.8879\n",
      "The classifier performs best on the class \"ship\"\n"
     ]
    }
   ],
   "source": [
    "class_names = ['cat', 'dog', 'ship']\n",
    "\n",
    "best_model = SimpleFCNN(input_size, hidden_size, output_size)\n",
    "best_model.load_state_dict(torch.load('best_model.pth'))\n",
    "best_model.eval()\n",
    "\n",
    "correct_overall = 0\n",
    "total_overall = 0\n",
    "correct_per_class = [0] * len(class_names)\n",
    "total_per_class = [0] * len(class_names)\n",
    "\n",
    "with torch.no_grad():\n",
    "    for inputs, labels in testloader:\n",
    "        outputs = best_model(inputs)\n",
    "        labels = torch.tensor([classes_of_interest.index(label.item()) for label in labels])\n",
    "\n",
    "        _, predicted = torch.max(outputs.data, 1)\n",
    "\n",
    "        total_overall += labels.size(0)\n",
    "        correct_overall += (predicted == labels).sum().item()\n",
    "\n",
    "        for i in range(len(class_names)):\n",
    "            class_indices = (labels == i).nonzero()\n",
    "            total_per_class[i] += class_indices.size(0)\n",
    "            correct_per_class[i] += (predicted[class_indices] == i).sum().item()\n",
    "\n",
    "overall_accuracy = correct_overall / total_overall\n",
    "per_class_accuracy = [correct_per_class[i] / total_per_class[i] for i in range(len(class_names))]\n",
    "\n",
    "best_class_index = per_class_accuracy.index(max(per_class_accuracy))\n",
    "best_class_name = class_names[best_class_index]\n",
    "\n",
    "print(f'Overall Test Accuracy: {overall_accuracy:.4f}')\n",
    "\n",
    "for i, class_name in enumerate(class_names):\n",
    "    print(f'Test Accuracy for {class_name}: {per_class_accuracy[i]:.4f}')\n",
    "\n",
    "print(f'The classifier performs best on the class \"{best_class_name}\"')\n"
   ]
  },
  {
   "cell_type": "markdown",
   "metadata": {},
   "source": [
    "### SHIP PERFORMS BETTER THAN THE OTHER CLASSES, SINCE IT IS VERY DIFFERENT FROM THE OTHER TWO CLASSES. IT HAS A DISTINCT SHAPE BUT THE OTHER CLASSES, CAT AND DOG HAVE SOME STRUCTURAL SIMILARITIES BUT SHIP IS MOSTLY IN SEA AND HAVE VERY DISTINCT FEATURES THAN CAT AND DOG"
   ]
  },
  {
   "cell_type": "markdown",
   "metadata": {},
   "source": []
  }
 ],
 "metadata": {
  "kernelspec": {
   "display_name": "Python 3",
   "language": "python",
   "name": "python3"
  },
  "language_info": {
   "codemirror_mode": {
    "name": "ipython",
    "version": 3
   },
   "file_extension": ".py",
   "mimetype": "text/x-python",
   "name": "python",
   "nbconvert_exporter": "python",
   "pygments_lexer": "ipython3",
   "version": "3.10.12"
  }
 },
 "nbformat": 4,
 "nbformat_minor": 1
}
